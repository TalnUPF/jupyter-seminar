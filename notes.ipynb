{
 "cells": [
  {
   "cell_type": "markdown",
   "metadata": {},
   "source": [
    "## nbgrader: create and grade assignments! (move later!)\n",
    "\n",
    "A tool  that facilitates creating and grading assignments in the Jupyter notebook:\n",
    "- It allows instructors to easily create notebook-based assignments that include both coding exercises and written free-responses. \n",
    "- nbgrader then also provides a streamlined interface for quickly grading completed assignments: Tests, hidden tests, autograding, … \n",
    "\n",
    "\n",
    "Very nice SciPy 2017 video by Jessica Hamrick presenting the tool and how to use it in the classroom :) [See presentation here](https://www.youtube.com/watch?v=5WUm0QuJdFw)\n"
   ]
  },
  {
   "cell_type": "markdown",
   "metadata": {},
   "source": [
    "## A Visual Overview of Projects\n",
    "![overview](images/jupyter_overview.png)"
   ]
  }
 ],
 "metadata": {
  "kernelspec": {
   "display_name": "Python 3",
   "language": "python",
   "name": "python3"
  },
  "language_info": {
   "codemirror_mode": {
    "name": "ipython",
    "version": 3
   },
   "file_extension": ".py",
   "mimetype": "text/x-python",
   "name": "python",
   "nbconvert_exporter": "python",
   "pygments_lexer": "ipython3",
   "version": "3.4.3"
  }
 },
 "nbformat": 4,
 "nbformat_minor": 2
}
