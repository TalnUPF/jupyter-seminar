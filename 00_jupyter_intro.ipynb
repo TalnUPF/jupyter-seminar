{
 "cells": [
  {
   "cell_type": "markdown",
   "metadata": {},
   "source": [
    "# Jupyter Notebook: create and share documents!"
   ]
  },
  {
   "cell_type": "markdown",
   "metadata": {},
   "source": [
    "Open source web application to create and share documents containing:\n",
    "- **live code** (you can run it!)\n",
    "- **equations**\n",
    "- **visualizations**\n",
    "- **narrative text** (markdown)\n",
    "\n",
    "Code, text and output are stored in an editable document called a **notebook**. When you save it, this is sent from your browser to the notebook server, which saves it on disk as a **JSON file with a .ipynb extension**.\n",
    "\n",
    "![notebook components](images/notebook_components.png)"
   ]
  },
  {
   "cell_type": "markdown",
   "metadata": {},
   "source": [
    "## Why is it cool?\n",
    "- **edit the code in the browser**, with automatic syntax highlighting, indentation, and tab completion/introspection\n",
    "- **execute code from the browser**, with the results of computations attached to the code which generated them\n",
    "- **display the results of computation** using **rich media representations**, such as HTML, LaTeX, PNG, SVG, etc \n",
    "    - include publication-quality figures rendered by the matplotlib library!\n",
    "- **edit rich text in the browser** using the Markdown markup language\n",
    "- **include mathematical notation** within markdown cells using **LaTeX**\n"
   ]
  },
  {
   "cell_type": "markdown",
   "metadata": {},
   "source": [
    "## How does it work?\n",
    "\n",
    "You are seeing it right now! Let's have a look :)<br/><br/>\n",
    "**Jupyter notebook interface tour**: Help > User Interface Tour<br/>\n",
    "**Keyboard shortcuts**: Help > Keyboard Shortcuts\n"
   ]
  },
  {
   "cell_type": "markdown",
   "metadata": {},
   "source": [
    "## I want to use it! Which packages do I need?\n",
    "\n",
    "![jupyter packages](images/which_packages.png)"
   ]
  },
  {
   "cell_type": "markdown",
   "metadata": {},
   "source": [
    "## Installaing the notebook on my system\n",
    "\n",
    "Installation through your terminal:\n",
    "\n",
    "```bash\n",
    "# Install Jupyter\n",
    "pip install jupyter\n",
    "# Move to the folder where you want to work\n",
    "cd <my-folder>\n",
    "# Run Jupyter (from withing the folder)\n",
    "jupyter notebook\n",
    "```\n",
    "\n",
    "A tab will be automatically opened in your browser, and you will see Jupyter web application.<br/><br/>\n",
    "\n",
    "Do you prefer to install it through a virtualenv? Have a look: "
   ]
  },
  {
   "cell_type": "markdown",
   "metadata": {},
   "source": [
    "## JupyterHub: you don't have to install anything! \n",
    "\n",
    "**Multi-user** version of the notebook, useful for research labs, classrooms, companies, etc. \n",
    "\n",
    "JupyterHub can be used to serve notebooks to a class of students, a corporate data science group, or a scientific **research group**.\n",
    "\n",
    "Gives users access to computational environments and resources without burdening the users with installation and maintenance tasks. Offers:\n",
    "\n",
    "- pluggable authentication (i.e. GitHub authentication)\n",
    "- centralized deployment\n",
    "- container friendly\n"
   ]
  },
  {
   "cell_type": "markdown",
   "metadata": {},
   "source": [
    "## nbgrader: create and grade assignments!\n",
    "\n",
    "A tool  that facilitates creating and grading assignments in the Jupyter notebook:\n",
    "- It allows instructors to easily create notebook-based assignments that include both coding exercises and written free-responses. \n",
    "- nbgrader then also provides a streamlined interface for quickly grading completed assignments: Tests, hidden tests, autograding, … \n",
    "\n",
    "\n",
    "Very nice SciPy 2017 video by Jessica Hamrick presenting the tool and how to use it in the classroom :) [See presentation here](https://www.youtube.com/watch?v=5WUm0QuJdFw)\n"
   ]
  },
  {
   "cell_type": "markdown",
   "metadata": {},
   "source": [
    "## A Visual Overview of Projects\n",
    "![overview](images/jupyter_overview.png)"
   ]
  },
  {
   "cell_type": "markdown",
   "metadata": {},
   "source": [
    "## Learn more\n",
    "[Jupyter Notebook documentation](https://jupyter-notebook.readthedocs.io/en/stable/notebook.html)<br/>\n",
    "[Markdown for Jupyter notebooks cheatsheet\n",
    "](https://medium.com/ibm-data-science-experience/markdown-for-jupyter-notebooks-cheatsheet-386c05aeebed)<br/>\n",
    "[JupyterHub documentation](https://jupyterhub.readthedocs.io/en/stable/)<br/>\n",
    "[nbgrader documentation](https://nbgrader.readthedocs.io/en/latest)<br/>\n"
   ]
  },
  {
   "cell_type": "code",
   "execution_count": null,
   "metadata": {},
   "outputs": [],
   "source": []
  }
 ],
 "metadata": {
  "kernelspec": {
   "display_name": "Python 3",
   "language": "python",
   "name": "python3"
  },
  "language_info": {
   "codemirror_mode": {
    "name": "ipython",
    "version": 3
   },
   "file_extension": ".py",
   "mimetype": "text/x-python",
   "name": "python",
   "nbconvert_exporter": "python",
   "pygments_lexer": "ipython3",
   "version": "3.4.3"
  }
 },
 "nbformat": 4,
 "nbformat_minor": 2
}
